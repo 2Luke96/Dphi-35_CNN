{
  "nbformat": 4,
  "nbformat_minor": 0,
  "metadata": {
    "colab": {
      "name": "Xrknee.ipynb",
      "provenance": [],
      "collapsed_sections": [
        "5fOEQ6SIR5o2",
        "8RShr75DSK0l",
        "ovoNJusRVAy-"
      ]
    },
    "kernelspec": {
      "name": "python3",
      "display_name": "Python 3"
    },
    "language_info": {
      "name": "python"
    },
    "accelerator": "GPU"
  },
  "cells": [
    {
      "source": [
        "# Data Sprint #35: Osteoarthritis Knee X-ray [ Help doctors to diagnose Osteoarthritis ]"
      ],
      "cell_type": "markdown",
      "metadata": {}
    },
    {
      "cell_type": "markdown",
      "metadata": {
        "id": "5fOEQ6SIR5o2"
      },
      "source": [
        "# Importing Required Libraries"
      ]
    },
    {
      "cell_type": "code",
      "metadata": {
        "id": "WKRhdrcXEsAq"
      },
      "source": [
        "import os \n",
        "import cv2\n",
        "import tensorflow as tf\n",
        "import glob\n",
        "import matplotlib.pyplot as plt\n",
        "from tensorflow.keras.preprocessing import image\n",
        "from tensorflow.keras.preprocessing.image import ImageDataGenerator, img_to_array\n",
        "from tensorflow.keras.models import Sequential\n",
        "from tensorflow.keras.layers import Conv2D, MaxPooling2D, Dense, Flatten, Dropout\n",
        "from itertools import chain\n",
        "import numpy as np\n",
        "from tensorflow.keras.layers import Dense,Dropout,Activation,Flatten\n",
        "import pickle\n",
        "import pandas as pd\n",
        "from tensorflow.keras.preprocessing.image import load_img\n",
        "import shutil\n",
        "from tensorflow.python.keras.backend import shape\n"
      ],
      "execution_count": 58,
      "outputs": []
    },
    {
      "cell_type": "markdown",
      "metadata": {
        "id": "fWEGOj7HSANC"
      },
      "source": [
        "* Checking for GPU"
      ]
    },
    {
      "cell_type": "code",
      "metadata": {
        "id": "yi5KczcrIdNg"
      },
      "source": [
        "import tensorflow as tf\n",
        "tf.test.gpu_device_name()"
      ],
      "execution_count": null,
      "outputs": []
    },
    {
      "cell_type": "markdown",
      "metadata": {
        "id": "8RShr75DSK0l"
      },
      "source": [
        "# Loading data(in .zip format) from Google drive.\n"
      ]
    },
    {
      "source": [
        "## About the data\n",
        "\n",
        "* This dataset contains knee X-ray data for both knee joint detection and knee KL grading. The Grade descriptions are as follows:\n",
        "\n",
        "* Grade 0: Healthy knee image.\n",
        "\n",
        "* Grade 1 (Doubtful): Doubtful joint narrowing with possible osteophytic lipping\n",
        "\n",
        "* Grade 2 (Minimal): Definite presence of osteophytes and possible joint space narrowing\n",
        "\n",
        "* Grade 3 (Moderate): Multiple osteophytes, definite joint space narrowing, with mild sclerosis.\n",
        "\n",
        "* Grade 4 (Severe): Large osteophytes, significant joint narrowing, and severe sclerosis.\n",
        "\n",
        " \n",
        "\n",
        "## What is KL grading?\n",
        "\n",
        "* The Kellgren Lawrence grading system is a radiological classification of knee osteoarthritis. It progresses from grade 0 to grade IV and is based on x-rays."
      ],
      "cell_type": "markdown",
      "metadata": {}
    },
    {
      "cell_type": "markdown",
      "metadata": {
        "id": "HG49hAvVa5og"
      },
      "source": [
        "#### * Download the data from https://drive.google.com/file/d/1NdDqPK4NLn2aV8ZdF5ilux1sfG6IyebC/view?usp=sharing\n",
        "#### * Change the directory to mounted drive\n",
        "#### * Using \"!unzip\" command, extract all the contents into Runtime."
      ]
    },
    {
      "cell_type": "code",
      "metadata": {
        "id": "CfQrGvBpGO8a"
      },
      "source": [
        "os.chdir('/content/sample_data')\n",
        "!unzip '/content/drive/MyDrive/Colab Notebooks/KneeXray.zip'"
      ],
      "execution_count": null,
      "outputs": []
    },
    {
      "cell_type": "markdown",
      "metadata": {
        "id": "nRi-OPXZSwrS"
      },
      "source": [
        "## Preparing Images to be fed into CNN.\n",
        "  1) Create folders with the name of classes(eg : classes=[0,1,2,3,4] perpare 5 folders with names as 0,1,2,3,4\n",
        "\n",
        "  2) copy the respective files from main source/folder into their classes folder.\n",
        "\n",
        "  3) with the help of ImageDataGenerator, and its function Flow from directory, created training data. "
      ]
    },
    {
      "cell_type": "code",
      "metadata": {
        "id": "iVY-dEbBGO40"
      },
      "source": [
        "labels = pd.read_csv(\"/content/sample_data/KneeXray/Train.csv\")"
      ],
      "execution_count": 15,
      "outputs": []
    },
    {
      "cell_type": "code",
      "metadata": {
        "id": "2txX1xjnGO0B"
      },
      "source": [
        "labels['filename']  = labels['filename'].apply(lambda x: str(\"/content/sample_data/KneeXray/train/\") + str(x))"
      ],
      "execution_count": 16,
      "outputs": []
    },
    {
      "cell_type": "code",
      "metadata": {
        "id": "00VeGqc8LPHe"
      },
      "source": [
        "os.mkdir('/content/sample_data/KneeXray/train_labels')\n",
        "for i in range(5):\n",
        "  os.mkdir('/content/sample_data/KneeXray/train_labels/'+str(i))"
      ],
      "execution_count": 18,
      "outputs": []
    },
    {
      "cell_type": "code",
      "metadata": {
        "id": "AOqWR3zGHKTx"
      },
      "source": [
        "direc = {0: \"/content/sample_data/KneeXray/train_labels/0\",\n",
        "        1: \"/content/sample_data/KneeXray/train_labels/1\",\n",
        "        2: \"/content/sample_data/KneeXray/train_labels/2\",\n",
        "        3: \"/content/sample_data/KneeXray/train_labels/3\",\n",
        "        4: \"/content/sample_data/KneeXray/train_labels/4\"}\n",
        "\n",
        "for i,j in zip(labels['label'], labels['filename']):\n",
        "    if i in direc.keys():\n",
        "        shutil.copy(j, direc[i])"
      ],
      "execution_count": 19,
      "outputs": []
    },
    {
      "cell_type": "code",
      "metadata": {
        "id": "c4-b3YF3MFfs"
      },
      "source": [
        "len(glob.glob('/content/sample_data/KneeXray/train_labels/0' + \"/*jpg\"))"
      ],
      "execution_count": null,
      "outputs": []
    },
    {
      "cell_type": "markdown",
      "metadata": {
        "id": "7qSZf0e1Tyzb"
      },
      "source": [
        "* ImageDataGenerator is a class of \"tensorflow.keras.preprocessing.image\""
      ]
    },
    {
      "cell_type": "code",
      "metadata": {
        "id": "Qb-6iCTnE15r"
      },
      "source": [
        "train = ImageDataGenerator(rescale=(1/255))"
      ],
      "execution_count": 60,
      "outputs": []
    },
    {
      "cell_type": "markdown",
      "metadata": {
        "id": "OS6g520vUBWx"
      },
      "source": [
        "* flow_from_directory helps us prepare the dataset as in the required format. \n",
        "* subset arument must be added if the validation data is created along with train in InageDataGenerator. Subset determines the dataset(i.e training data or Validation data)"
      ]
    },
    {
      "cell_type": "code",
      "metadata": {
        "colab": {
          "base_uri": "https://localhost:8080/"
        },
        "id": "E8_sQyL8E49b",
        "outputId": "5e5b19b7-6368-4766-8146-3231e038b5cb"
      },
      "source": [
        "train_dat = train.flow_from_directory(\n",
        "                        directory = '/content/sample_data/KneeXray/train_labels/',\n",
        "                        target_size=(224, 224),\n",
        "                        classes=None,\n",
        "                        class_mode='categorical',\n",
        "                        seed = 42,\n",
        "                        shuffle = True,\n",
        "                        batch_size=200\n",
        "                        #subset = \"training\"\n",
        "                        )"
      ],
      "execution_count": 61,
      "outputs": [
        {
          "output_type": "stream",
          "text": [
            "Found 7828 images belonging to 5 classes.\n"
          ],
          "name": "stdout"
        }
      ]
    },
    {
      "cell_type": "code",
      "metadata": {
        "id": "0TBY-DdHJDKB"
      },
      "source": [
        "pd.Series(train_dat.classes).value_counts()"
      ],
      "execution_count": null,
      "outputs": []
    },
    {
      "cell_type": "markdown",
      "metadata": {
        "id": "xynthULKUYzv"
      },
      "source": [
        "* In case of using a validation dataset, add validation_size in ImageDataGenerator ranging from 0-1\n",
        "\n"
      ]
    },
    {
      "cell_type": "code",
      "metadata": {
        "colab": {
          "base_uri": "https://localhost:8080/"
        },
        "id": "a2klVsr0E6nd",
        "outputId": "f40e3218-d7bb-4e60-e811-d3878640b776"
      },
      "source": [
        "# val_dat = train.flow_from_directory(\n",
        "#                         directory = '/content/sample_data/KneeXray/train_labels',\n",
        "#                         target_size=(224, 224),\n",
        "#                         classes=None,\n",
        "#                         class_mode='categorical',\n",
        "#                         seed = 42,\n",
        "#                         shuffle = True,\n",
        "#                         batch_size=200,\n",
        "#                         subset=\"validation\")\n"
      ],
      "execution_count": 49,
      "outputs": [
        {
          "output_type": "stream",
          "text": [
            "Found 1956 images belonging to 5 classes.\n"
          ],
          "name": "stdout"
        }
      ]
    },
    {
      "cell_type": "markdown",
      "metadata": {
        "id": "ovoNJusRVAy-"
      },
      "source": [
        "# Model Building "
      ]
    },
    {
      "cell_type": "markdown",
      "metadata": {
        "id": "R11ELqrbVDpl"
      },
      "source": [
        "* Multiple changes can be done in architechture in future for better performance."
      ]
    },
    {
      "cell_type": "code",
      "metadata": {
        "id": "7zN4NwrSE93S"
      },
      "source": [
        "\n",
        "basic_model = tf.keras.models.Sequential([tf.keras.layers.Conv2D(16,(3,3), activation = 'relu', input_shape = (224,224,3)),\n",
        "                                     tf.keras.layers.MaxPool2D(2,2),\n",
        "                                     tf.keras.layers.Conv2D(32,(3,3), activation = 'relu'),\n",
        "                                     tf.keras.layers.MaxPool2D(2,2),\n",
        "                                     tf.keras.layers.Conv2D(64,(3,3), activation = 'relu'),\n",
        "                                     tf.keras.layers.MaxPool2D(2,2),\n",
        "                                     tf.keras.layers.Flatten(),\n",
        "                                     tf.keras.layers.Dense(512, activation = 'relu'),\n",
        "                                     tf.keras.layers.Dense(1, activation = 'softmax')\n",
        "                                     ])\n"
      ],
      "execution_count": 63,
      "outputs": []
    },
    {
      "cell_type": "code",
      "metadata": {
        "id": "t_ghcupJE_0C"
      },
      "source": [
        "from tensorflow.keras.optimizers import RMSprop,SGD\n",
        "basic_model.compile(loss = 'categorical_crossentropy',\n",
        "              optimizer = RMSprop(learning_rate=0.001),\n",
        "              metrics = ['accuracy'])"
      ],
      "execution_count": 64,
      "outputs": []
    },
    {
      "cell_type": "code",
      "metadata": {
        "id": "wbc4z-NPFBaS"
      },
      "source": [
        "basic_model_fit = basic_model.fit(train_dat,\n",
        "                        steps_per_epoch = 40,\n",
        "                        epochs = 30,\n",
        "                        # validation_data=val_dat,\n",
        "                        # validation_batch_size=150,\n",
        "                        # validation_steps=20\n",
        "                        )"
      ],
      "execution_count": null,
      "outputs": []
    },
    {
      "cell_type": "code",
      "metadata": {
        "id": "vCry2U2ebu6S"
      },
      "source": [
        "os.chdir('/content/drive/MyDrive/Colab Notebooks')"
      ],
      "execution_count": 67,
      "outputs": []
    },
    {
      "cell_type": "code",
      "metadata": {
        "id": "aO0NY24NWHqI"
      },
      "source": [
        "basic_model.save('xrknee30052219.tf', overwrite = True)"
      ],
      "execution_count": null,
      "outputs": []
    },
    {
      "cell_type": "code",
      "metadata": {
        "id": "mxOLPBhnYqfW"
      },
      "source": [
        "basic_model_fit.history"
      ],
      "execution_count": null,
      "outputs": []
    },
    {
      "cell_type": "markdown",
      "metadata": {
        "id": "PSizxBAHSAZX"
      },
      "source": [
        "# Testing \n",
        "\n",
        "\n"
      ]
    },
    {
      "cell_type": "markdown",
      "metadata": {
        "id": "lWORLyZSZxuU"
      },
      "source": [
        "* Testing data are provided in two forms.\n",
        "    * 1) .csv file with images names in alphanumeric order supposed as reference for submission format\n",
        "    * 2) Actual Images in a Folder named Test  "
      ]
    },
    {
      "cell_type": "code",
      "metadata": {
        "id": "nT9wtad2R_2P"
      },
      "source": [
        "test_labels = pd.read_csv(\"/content/sample_data/KneeXray/Test.csv\")"
      ],
      "execution_count": 70,
      "outputs": []
    },
    {
      "cell_type": "markdown",
      "metadata": {
        "id": "Fygze2mjaRIW"
      },
      "source": [
        "* A user defined function is created to prepare each image into required spec's inorder to feed into model for predictions.\n",
        "\n",
        "* Images names and their predicted class result is stored in a list ([['Image_1.jpg', 2], ['Image_2.jpg', 0],...] format to easily convert into dataframe for smooth processsing."
      ]
    },
    {
      "cell_type": "code",
      "metadata": {
        "id": "J_8js7P9WR_-"
      },
      "source": [
        "def predict():\n",
        "  op = []\n",
        "  for i in test_labels['filename']:\n",
        "    val = '/content/sample_data/KneeXray/test/'+str(i)\n",
        "    img_resize = tf.image.resize(plt.imread(val), [224, 224]).numpy()\n",
        "    img_resize = img_resize.astype(np.uint8)\n",
        "    img = np.ndarray(shape = (1, 224, 224, 3), dtype=np.float32)\n",
        "    op.append([i, np.argmax(basic_model.predict(img)[0].tolist())])\n",
        "  return(op)\n"
      ],
      "execution_count": 132,
      "outputs": []
    },
    {
      "cell_type": "code",
      "metadata": {
        "id": "G31CUzN9XFeS"
      },
      "source": [
        "output = predict()"
      ],
      "execution_count": 134,
      "outputs": []
    },
    {
      "cell_type": "code",
      "metadata": {
        "id": "rSlGgxzaSR5P"
      },
      "source": [
        "pd.DataFrame(output,columns = ['filename','label']).to_csv('Final_output.csv', encoding = 'utf-8')"
      ],
      "execution_count": 137,
      "outputs": []
    }
  ]
}